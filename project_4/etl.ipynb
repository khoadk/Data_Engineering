{
 "cells": [
  {
   "cell_type": "code",
   "execution_count": null,
   "metadata": {},
   "outputs": [],
   "source": [
    "sc"
   ]
  },
  {
   "cell_type": "code",
   "execution_count": null,
   "metadata": {},
   "outputs": [],
   "source": [
    "#import configparser\n",
    "from datetime import datetime\n",
    "import os\n",
    "#import glob\n",
    "from pyspark.sql import SparkSession\n",
    "import pyspark.sql.functions as F\n",
    "from pyspark.sql.functions import udf, col\n",
    "from pyspark.sql.functions import year, month, dayofmonth, hour, weekofyear, date_format\n",
    "from pyspark.sql.types import StructType as R, StructField as Fld, DoubleType as Dbl, StringType as Str, IntegerType as Int, DateType as Date, TimestampType\n",
    "from pyspark.sql.functions import monotonically_increasing_id"
   ]
  },
  {
   "cell_type": "code",
   "execution_count": null,
   "metadata": {},
   "outputs": [],
   "source": [
    "# def remane col names\n",
    "\n",
    "def rename_cols(schema, old_columns, new_columns):\n",
    "    \"\"\"\n",
    "    Description:\n",
    "        Rename column names. It is helpfull way to keep track data mapping. \n",
    "        Which columns were mapped to which columns of \"schema on read\". \n",
    "    \n",
    "    Parameters:\n",
    "        - schema: dataframe whose column names are exptected to renamed.\n",
    "        - old_names: the current column names of df.\n",
    "        - new_names: the expected column new names of df\n",
    "    \"\"\"\n",
    "    try:\n",
    "        print(\"rename_cols fucntion is starting\")\n",
    "        print(\"********************************\")\n",
    "        for old_col,new_col in zip(old_columns,new_columns):\n",
    "            schema = schema.withColumnRenamed(old_col,new_col)\n",
    "        print(\"Successful renaming.\")\n",
    "        print(\"*********************\")\n",
    "        return schema\n",
    "    except:\n",
    "        print(\"Unsuccessful renaming.\")\n",
    "        print(\"**********************\")"
   ]
  },
  {
   "cell_type": "code",
   "execution_count": null,
   "metadata": {},
   "outputs": [],
   "source": [
    "# def the schema on read for song dataset\n",
    "\n",
    "def schema_song_data():\n",
    "    \"\"\"\n",
    "    Description:\n",
    "        Schema design for song datasets.\n",
    "    \"\"\"\n",
    "    try:\n",
    "        print(\"schema_song_data fuction is statrting.\")\n",
    "        print(\"**************************************\")\n",
    "        \n",
    "        schema = R([\n",
    "            Fld(\"artist_id\",Str()),\n",
    "            Fld(\"artist_latitude\",Dbl()),\n",
    "            Fld(\"artist_location\",Str()),\n",
    "            Fld(\"artist_longitude\",Dbl()),\n",
    "            Fld(\"artist_name\",Str()),\n",
    "            Fld(\"duration\",Dbl()),\n",
    "            Fld(\"num_songs\",Int()),\n",
    "            Fld(\"song_id\",Str()),\n",
    "            Fld(\"title\",Str()),\n",
    "            Fld(\"year\",Int()),\n",
    "        ])\n",
    "        \n",
    "        print(\"schema_song_data is successfull created\")\n",
    "        print(\"***************************************\")\n",
    "        return schema\n",
    "    \n",
    "    except:\n",
    "        print(\"schema_song_data function is successful created.\")\n",
    "        print(\"************************************************\")"
   ]
  },
  {
   "cell_type": "code",
   "execution_count": null,
   "metadata": {},
   "outputs": [],
   "source": [
    "# Not working has to inferschema manually\n",
    "# def schema on read for log dataset\n",
    "\n",
    "def schema_log_data():\n",
    "    \"\"\"\n",
    "    Description:\n",
    "        schema design for log dataset.\n",
    "    \"\"\"\n",
    "    try:\n",
    "        print(\"schema_log_data function is starting.\")\n",
    "        print(\"*************************************\")\n",
    "        \n",
    "        schema = R([\n",
    "            Fld(\"artist\",Str()),\n",
    "            Fld(\"auth\",Str()),\n",
    "            Fld(\"firstName\",Str()),\n",
    "            Fld(\"gender\",Str()),\n",
    "            Fld(\"itemInSession\",Int()),\n",
    "            Fld(\"lastName\",Str()),\n",
    "            Fld(\"length\",Dbl()),\n",
    "            Fld(\"level\",Str()),\n",
    "            Fld(\"location\",Str()),\n",
    "            Fld(\"method\",Str()),\n",
    "            Fld(\"page\",Str()),\n",
    "            Fld(\"registration\",Int()),\n",
    "            Fld(\"sessionId\",Int()),\n",
    "            Fld(\"song\",Str()),\n",
    "            Fld(\"status\",Str()),\n",
    "            Fld(\"ts\",Int()), \n",
    "            Fld(\"userAgent\",Str()),\n",
    "            Fld(\"userId\",Int())\n",
    "        ])\n",
    "        \n",
    "        print(\"Successfull schema design for log dataset.\")\n",
    "        print(\"******************************************\")\n",
    "        return schema\n",
    "        \n",
    "    except:\n",
    "        print(\"Unsuccessful schema design for log dataset.\")\n",
    "        print(\"*******************************************\")"
   ]
  },
  {
   "cell_type": "code",
   "execution_count": null,
   "metadata": {},
   "outputs": [],
   "source": [
    "# def \"process_song_data\" elt for song datasets.\n",
    "\n",
    "def process_song_data(spark, input_data, output_data):\n",
    "    \"\"\"\n",
    "    Description:\n",
    "        ELT for song dataset: \n",
    "        - Extract data from S3 \n",
    "        - Load in into Schema on read \n",
    "        - Transform then save it back to S3 in parquet file format. \n",
    "        \n",
    "    Parameters:\n",
    "        - spark: spark Session\n",
    "        - input_data: directory for song dataset\n",
    "        - output_data: directory for tranformed dataset.\n",
    "    \"\"\"\n",
    "    # get filepath to song data file\n",
    "    song_data = input_data + \"song_data/*/*/*/*.json\"\n",
    "    \n",
    "    \n",
    "    # read song data file\n",
    "    song_dataset_schema = schema_song_data()\n",
    "    df = spark.read.json(song_data, schema = song_dataset_schema)\n",
    "\n",
    "    # extract columns to create songs table\n",
    "    song_cols = [\"song_id\", \"title\", \n",
    "                     \"artist_id\", \"year\", \n",
    "                     \"duration\"]\n",
    "    song_table = df.select(song_cols).dropDuplicates()\n",
    "\n",
    "    # write songs table to parquet files partitioned by year and artist\n",
    "    song_table.write.partitionBy(\"year\",\"artist_id\") \\\n",
    "                .mode(\"overwrite\") \\\n",
    "                .parquet(output_data + 'song_table/')\n",
    "    print(\"Successful write songs table to parquet files partitioned by year and artist\")\n",
    "    print(\"*****************************************************************************\")\n",
    "\n",
    "    # extract columns to create artists table\n",
    "    artists_cols = [\"artist_id\", \"artist_name\", \n",
    "                     \"artist_location\", \"artist_latitude\", \n",
    "                     \"artist_longitude\"]\n",
    "    artists_table = df.select(artists_cols).dropDuplicates()\n",
    "          \n",
    "    # Remane the columns name of artist table matching shema design\n",
    "    rename = [\"artist_id\",\"name\",\"location\",\"latitude\",\"longitude\"]\n",
    "    artists_table = rename_cols(artists_table, artists_table.columns, rename)\n",
    "    \n",
    "    # write artists table to parquet files\n",
    "    artists_table.write.mode(\"overwrite\") \\\n",
    "        .parquet(output_data + 'artist_table/') \n",
    "    print(\"Successful write artists table to parquet files\")\n",
    "    print(\"***********************************************\")\n",
    "    print(\"******************process_song_data si DONE******************\")"
   ]
  },
  {
   "cell_type": "code",
   "execution_count": null,
   "metadata": {},
   "outputs": [],
   "source": [
    "# def \"process_log_data\" elt for log datasets.\n",
    "\n",
    "def process_log_data(spark, input_data, output_data):\n",
    "    \"\"\"\n",
    "    Description:\n",
    "        ELT for log dataset: \n",
    "        - Extract data from S3 \n",
    "        - Load in into Schema on read \n",
    "        - Transform then save it back to S3 in parquet file format. \n",
    "        \n",
    "    Parameters:\n",
    "        - spark: spark Session\n",
    "        - input_data: directory for log dataset\n",
    "        - output_data: directory for tranformed dataset.\n",
    "    \"\"\"\n",
    "    \n",
    "    # get filepath to log data file\n",
    "    log_data = input_data + 'log_data/*/*/*.json'\n",
    "    #log_data = input_data + 'log_data/*.json'\n",
    "    \n",
    "\n",
    "    # read log data file\n",
    "    #log_dataset_schema = schema_log_data()\n",
    "    #df = spark.read.json(log_data, schema = log_dataset_schema)\n",
    "    df = spark.read.json(log_data)\n",
    "    \n",
    "    # filter by actions for song plays\n",
    "    df = df.filter(df.page == \"NextSong\")\n",
    "    \n",
    "    # filter by actions for user table\n",
    "    user_cols = [\"userId\",\"firstName\",\"lastName\",\"gender\",\"level\"]\n",
    "    user_table = df.select(user_cols).dropDuplicates()\n",
    "    \n",
    "    # Remane the columns name of user table matching shema design\n",
    "    rename = [\"user_id\",\"first_name\",\"last_name\",\"gender\", \"level\"]\n",
    "    user_table = rename_cols(user_table, user_table.columns, rename)\n",
    "    \n",
    "    # write users table to parquet files\n",
    "    user_table.write.mode(\"overwrite\") \\\n",
    "        .parquet(output_data + \"user_table/\")\n",
    "    print(\"Successful write users table to parquet files\")\n",
    "    print(\"*********************************************\")\n",
    "    \n",
    "    # create timestamp column from original timestamp column\n",
    "    \n",
    "    df = df.withColumn(\"start_time\", F.to_timestamp(df.ts/1000) )\n",
    "    \n",
    "    \n",
    "    # create datetime column from original timestamp column\n",
    "    time_table = df.select(\"start_time\").dropDuplicates() \\\n",
    "                    .withColumn(\"hour\", hour(col(\"start_time\"))) \\\n",
    "                    .withColumn(\"day\", dayofmonth(col(\"start_time\"))) \\\n",
    "                    .withColumn(\"week\", weekofyear(col(\"start_time\"))) \\\n",
    "                    .withColumn(\"month\", month(col(\"start_time\"))) \\\n",
    "                    .withColumn(\"year\", year(col(\"start_time\"))) \\\n",
    "                    .withColumn(\"weekday\", date_format(col(\"start_time\"), 'E'))\n",
    "\n",
    "    # write time table to parquet files partitioned by year and month\n",
    "    time_table.write.partitionBy(\"year\",\"month\") \\\n",
    "        .mode(\"overwrite\") \\\n",
    "        .parquet(output_data + \"time_table/\")\n",
    "    print(\"Successful write time table to parquet files\")\n",
    "    print(\"********************************************\")\n",
    "    \n",
    "    \n",
    "    # read in song data to use for songplays table\n",
    "    song_df = spark.read.parquet(output_data + \"song_table/\")\n",
    "    song_col = [\"song_id\", \"title\", \"artist_id\"]\n",
    "    song_df = song_df.select(song_col)\n",
    "    \n",
    "    # extract columns from joined song and log datasets to create songplays table \n",
    "    # Denormalize schema => ADDING song, year and month to improve queries performance.\n",
    "    \n",
    "    songplays_cols = [\"ts\",\"userId\", \"level\", \"sessionId\",\"location\",\"userAgent\",\"song\"]\n",
    "    songplays_table = df.select(songplays_cols).dropDuplicates()\n",
    "    \n",
    "    songplays_table = songplays_table.withColumn(\"songplay_id\", monotonically_increasing_id())\n",
    "    \n",
    "    songplays_table = songplays_table.withColumn(\"start_time\", F.to_timestamp(songplays_table.ts/1000) )\n",
    "    \n",
    "    songplays_table = songplays_table.withColumn(\"month\", F.month(songplays_table.start_time)) \\\n",
    "                                    .withColumn(\"year\", F.year(songplays_table.start_time))\n",
    "    \n",
    "    \n",
    "    songplays_table = songplays_table.join(song_df, song_df.title == songplays_table.song, how = \"left\")\n",
    "                                       \n",
    "    songplays_table = songplays_table.drop(songplays_table.title)\n",
    "  \n",
    "    \n",
    "    # write songplays table to parquet files partitioned by year and month\n",
    "    songplays_table.write.partitionBy(\"year\",\"month\") \\\n",
    "        .mode(\"overwrite\") \\\n",
    "        .parquet(output_data + \"songplays_table/\")\n",
    "    print(\"Successful write songplays_table to parquet files\")\n",
    "    print(\"*************************************************\")\n",
    "    print(\"******************DONE***************************\")\n",
    "    "
   ]
  },
  {
   "cell_type": "code",
   "execution_count": null,
   "metadata": {},
   "outputs": [],
   "source": [
    "def main():\n",
    "    #spark = create_spark_session()\n",
    "    #input_data = \"s3://udacity-khoa-nguyen/data/\"\n",
    "    input_data = \"s3a://udacity-dend/\"\n",
    "    output_data = \"s3://udacity-khoa-nguyen/udacity-data-lake/\"\n",
    "    #input_data = os.getcwd() + \"/data\"\n",
    "    #output_data = os.getcwd() + \"/output_data\"\n",
    "    \n",
    "    process_song_data(spark, input_data, output_data)    \n",
    "    process_log_data(spark, input_data, output_data)"
   ]
  },
  {
   "cell_type": "code",
   "execution_count": null,
   "metadata": {},
   "outputs": [],
   "source": [
    "main()"
   ]
  },
  {
   "cell_type": "markdown",
   "metadata": {},
   "source": [
    "# Testing"
   ]
  },
  {
   "cell_type": "markdown",
   "metadata": {},
   "source": [
    "## Song Table loading from S3"
   ]
  },
  {
   "cell_type": "code",
   "execution_count": null,
   "metadata": {},
   "outputs": [],
   "source": [
    "output_data = \"s3://udacity-khoa-nguyen/udacity-data-lake/\"\n",
    "song_table = spark.read.parquet(output_data + \"song_table/\")\n",
    "song_table.printSchema()\n",
    "song_table.show(5)"
   ]
  },
  {
   "cell_type": "markdown",
   "metadata": {},
   "source": [
    "## Artist table loading from S3"
   ]
  },
  {
   "cell_type": "code",
   "execution_count": null,
   "metadata": {},
   "outputs": [],
   "source": [
    "artist_table = spark.read.parquet(\"s3://udacity-khoa-nguyen/udacity-data-lake/artist_table/\")\n",
    "artist_table.printSchema()\n",
    "artist_table.show(5)"
   ]
  },
  {
   "cell_type": "markdown",
   "metadata": {},
   "source": [
    "## User table loading from S3"
   ]
  },
  {
   "cell_type": "code",
   "execution_count": 2,
   "metadata": {},
   "outputs": [
    {
     "data": {
      "application/vnd.jupyter.widget-view+json": {
       "model_id": "c56911308b0045cda0c94ad57d62b69f",
       "version_major": 2,
       "version_minor": 0
      },
      "text/plain": [
       "VBox()"
      ]
     },
     "metadata": {},
     "output_type": "display_data"
    },
    {
     "data": {
      "application/vnd.jupyter.widget-view+json": {
       "model_id": "",
       "version_major": 2,
       "version_minor": 0
      },
      "text/plain": [
       "FloatProgress(value=0.0, bar_style='info', description='Progress:', layout=Layout(height='25px', width='50%'),…"
      ]
     },
     "metadata": {},
     "output_type": "display_data"
    },
    {
     "name": "stdout",
     "output_type": "stream",
     "text": [
      "root\n",
      " |-- user_id: string (nullable = true)\n",
      " |-- first_name: string (nullable = true)\n",
      " |-- last_name: string (nullable = true)\n",
      " |-- gender: string (nullable = true)\n",
      " |-- level: string (nullable = true)\n",
      "\n",
      "+-------+----------+---------+------+-----+\n",
      "|user_id|first_name|last_name|gender|level|\n",
      "+-------+----------+---------+------+-----+\n",
      "|     88|  Mohammad|Rodriguez|     M| paid|\n",
      "|     88|  Mohammad|Rodriguez|     M| free|\n",
      "|     68|    Jordan|Rodriguez|     F| free|\n",
      "|     29|Jacqueline|    Lynch|     F| free|\n",
      "|     11| Christian|   Porter|     F| free|\n",
      "+-------+----------+---------+------+-----+\n",
      "only showing top 5 rows"
     ]
    }
   ],
   "source": [
    "user_table = spark.read.parquet(\"s3://udacity-khoa-nguyen/udacity-data-lake/user_table/\")\n",
    "user_table.printSchema()\n",
    "user_table.show(5)"
   ]
  },
  {
   "cell_type": "markdown",
   "metadata": {},
   "source": [
    "### How many female users do we have in the data set?"
   ]
  },
  {
   "cell_type": "code",
   "execution_count": 6,
   "metadata": {},
   "outputs": [
    {
     "data": {
      "application/vnd.jupyter.widget-view+json": {
       "model_id": "fc3a22e9875146ccbd239e74bdbac02d",
       "version_major": 2,
       "version_minor": 0
      },
      "text/plain": [
       "VBox()"
      ]
     },
     "metadata": {},
     "output_type": "display_data"
    },
    {
     "data": {
      "application/vnd.jupyter.widget-view+json": {
       "model_id": "",
       "version_major": 2,
       "version_minor": 0
      },
      "text/plain": [
       "FloatProgress(value=0.0, bar_style='info', description='Progress:', layout=Layout(height='25px', width='50%'),…"
      ]
     },
     "metadata": {},
     "output_type": "display_data"
    },
    {
     "name": "stdout",
     "output_type": "stream",
     "text": [
      "55"
     ]
    }
   ],
   "source": [
    "user_table.filter(user_table.gender == 'F') \\\n",
    "    .select('user_id', 'gender') \\\n",
    "    .dropDuplicates() \\\n",
    "    .count()"
   ]
  },
  {
   "cell_type": "markdown",
   "metadata": {},
   "source": [
    "## Time table loading form S3"
   ]
  },
  {
   "cell_type": "code",
   "execution_count": null,
   "metadata": {},
   "outputs": [],
   "source": [
    "time_table = spark.read.parquet(\"s3://udacity-khoa-nguyen/udacity-data-lake/time_table/\")\n",
    "time_table.printSchema()\n",
    "time_table.show(5)"
   ]
  },
  {
   "cell_type": "markdown",
   "metadata": {},
   "source": [
    "## Song play table loading from S3"
   ]
  },
  {
   "cell_type": "code",
   "execution_count": 7,
   "metadata": {},
   "outputs": [
    {
     "data": {
      "application/vnd.jupyter.widget-view+json": {
       "model_id": "b3dfc8e0a52f4f5b8b5d1e055be43ad2",
       "version_major": 2,
       "version_minor": 0
      },
      "text/plain": [
       "VBox()"
      ]
     },
     "metadata": {},
     "output_type": "display_data"
    },
    {
     "data": {
      "application/vnd.jupyter.widget-view+json": {
       "model_id": "",
       "version_major": 2,
       "version_minor": 0
      },
      "text/plain": [
       "FloatProgress(value=0.0, bar_style='info', description='Progress:', layout=Layout(height='25px', width='50%'),…"
      ]
     },
     "metadata": {},
     "output_type": "display_data"
    },
    {
     "name": "stdout",
     "output_type": "stream",
     "text": [
      "root\n",
      " |-- ts: long (nullable = true)\n",
      " |-- userId: string (nullable = true)\n",
      " |-- level: string (nullable = true)\n",
      " |-- sessionId: long (nullable = true)\n",
      " |-- location: string (nullable = true)\n",
      " |-- userAgent: string (nullable = true)\n",
      " |-- song: string (nullable = true)\n",
      " |-- songplay_id: long (nullable = true)\n",
      " |-- start_time: timestamp (nullable = true)\n",
      " |-- song_id: string (nullable = true)\n",
      " |-- artist_id: string (nullable = true)\n",
      " |-- year: integer (nullable = true)\n",
      " |-- month: integer (nullable = true)\n",
      "\n",
      "+-------------+------+-----+---------+--------------------+--------------------+--------------------+-------------+--------------------+-------+---------+----+-----+\n",
      "|           ts|userId|level|sessionId|            location|           userAgent|                song|  songplay_id|          start_time|song_id|artist_id|year|month|\n",
      "+-------------+------+-----+---------+--------------------+--------------------+--------------------+-------------+--------------------+-------+---------+----+-----+\n",
      "|1542602953796|    15| paid|      612|Chicago-Napervill...|\"Mozilla/5.0 (X11...|       A Year Or Two| 721554505753|2018-11-19 04:49:...|   null|     null|2018|   11|\n",
      "|1541484560796|    26| free|      278|San Jose-Sunnyval...|\"Mozilla/5.0 (X11...|       A Year Or Two| 996432412705|2018-11-06 06:09:...|   null|     null|2018|   11|\n",
      "|1543036923796|    88| paid|      888|Sacramento--Rosev...|\"Mozilla/5.0 (Mac...|Act Naturally (Al...|1176821039116|2018-11-24 05:22:...|   null|     null|2018|   11|\n",
      "|1543589497796|   101| free|     1060|New Orleans-Metai...|\"Mozilla/5.0 (Win...|Anthem For The Un...|1486058684426|2018-11-30 14:51:...|   null|     null|2018|   11|\n",
      "|1543359501796|    61| free|      876|Houston-The Woodl...|\"Mozilla/5.0 (Mac...|     Bird Song Intro| 764504178708|2018-11-27 22:58:...|   null|     null|2018|   11|\n",
      "+-------------+------+-----+---------+--------------------+--------------------+--------------------+-------------+--------------------+-------+---------+----+-----+\n",
      "only showing top 5 rows"
     ]
    }
   ],
   "source": [
    "songplays_table = spark.read.parquet(\"s3://udacity-khoa-nguyen/udacity-data-lake/songplays_table/\")\n",
    "songplays_table.printSchema()\n",
    "songplays_table.show(5)"
   ]
  },
  {
   "cell_type": "code",
   "execution_count": null,
   "metadata": {},
   "outputs": [],
   "source": [
    "# looing for a specify song.\n",
    "songplays_table.select(\"*\").where(\"song = 'Thugs Like Me'\").show()"
   ]
  },
  {
   "cell_type": "markdown",
   "metadata": {},
   "source": [
    "### How many songs were played from the most played artist?"
   ]
  },
  {
   "cell_type": "code",
   "execution_count": 11,
   "metadata": {},
   "outputs": [
    {
     "data": {
      "application/vnd.jupyter.widget-view+json": {
       "model_id": "a0947283a4624dcbb415e132ecd58d0a",
       "version_major": 2,
       "version_minor": 0
      },
      "text/plain": [
       "VBox()"
      ]
     },
     "metadata": {},
     "output_type": "display_data"
    },
    {
     "data": {
      "application/vnd.jupyter.widget-view+json": {
       "model_id": "",
       "version_major": 2,
       "version_minor": 0
      },
      "text/plain": [
       "FloatProgress(value=0.0, bar_style='info', description='Progress:', layout=Layout(height='25px', width='50%'),…"
      ]
     },
     "metadata": {},
     "output_type": "display_data"
    }
   ],
   "source": [
    "from pyspark.sql.functions import isnan, count, when, col, desc, udf, col, sort_array, asc, avg\n",
    "from pyspark.sql.functions import sum as Fsum\n",
    "from pyspark.sql.window import Window\n",
    "from pyspark.sql.types import IntegerType"
   ]
  },
  {
   "cell_type": "code",
   "execution_count": 12,
   "metadata": {},
   "outputs": [
    {
     "data": {
      "application/vnd.jupyter.widget-view+json": {
       "model_id": "f0eea0ee2da74dc69303d595f4235fa8",
       "version_major": 2,
       "version_minor": 0
      },
      "text/plain": [
       "VBox()"
      ]
     },
     "metadata": {},
     "output_type": "display_data"
    },
    {
     "data": {
      "application/vnd.jupyter.widget-view+json": {
       "model_id": "",
       "version_major": 2,
       "version_minor": 0
      },
      "text/plain": [
       "FloatProgress(value=0.0, bar_style='info', description='Progress:', layout=Layout(height='25px', width='50%'),…"
      ]
     },
     "metadata": {},
     "output_type": "display_data"
    },
    {
     "name": "stdout",
     "output_type": "stream",
     "text": [
      "+------------------+-----------+\n",
      "|         artist_id|Artistcount|\n",
      "+------------------+-----------+\n",
      "|AR5E44Z1187B9A1D74|         37|\n",
      "|ARXYBIB1187FB519B0|         17|\n",
      "|ARNRA801187FB5587A|         13|\n",
      "+------------------+-----------+\n",
      "only showing top 3 rows"
     ]
    }
   ],
   "source": [
    "songplays_table.select('artist_id') \\\n",
    "    .groupBy('artist_id') \\\n",
    "    .agg({'artist_id':'count'}) \\\n",
    "    .withColumnRenamed('count(artist_id)', 'Artistcount') \\\n",
    "    .sort(desc('Artistcount')) \\\n",
    "    .show(3)"
   ]
  },
  {
   "cell_type": "code",
   "execution_count": 13,
   "metadata": {},
   "outputs": [
    {
     "data": {
      "application/vnd.jupyter.widget-view+json": {
       "model_id": "04773ea7dd7147adb165db514e2a059b",
       "version_major": 2,
       "version_minor": 0
      },
      "text/plain": [
       "VBox()"
      ]
     },
     "metadata": {},
     "output_type": "display_data"
    },
    {
     "data": {
      "application/vnd.jupyter.widget-view+json": {
       "model_id": "",
       "version_major": 2,
       "version_minor": 0
      },
      "text/plain": [
       "FloatProgress(value=0.0, bar_style='info', description='Progress:', layout=Layout(height='25px', width='50%'),…"
      ]
     },
     "metadata": {},
     "output_type": "display_data"
    }
   ],
   "source": [
    "spark.stop()"
   ]
  }
 ],
 "metadata": {
  "kernelspec": {
   "display_name": "Python 3",
   "language": "python",
   "name": "python3"
  },
  "language_info": {
   "codemirror_mode": {
    "name": "ipython",
    "version": 3
   },
   "file_extension": ".py",
   "mimetype": "text/x-python",
   "name": "python",
   "nbconvert_exporter": "python",
   "pygments_lexer": "ipython3",
   "version": "3.7.3"
  }
 },
 "nbformat": 4,
 "nbformat_minor": 2
}
